{
 "cells": [
  {
   "cell_type": "code",
   "execution_count": 1,
   "metadata": {},
   "outputs": [],
   "source": [
    "import os\n",
    "from natsort import natsorted"
   ]
  },
  {
   "cell_type": "code",
   "execution_count": 2,
   "metadata": {},
   "outputs": [],
   "source": [
    "ecp_img = \"/home/minoda/datasets/ECP/ECP/day/img\"\n",
    "ecp_labels = \"/home/minoda/datasets/ECP/ECP/day/labels\""
   ]
  },
  {
   "cell_type": "code",
   "execution_count": 3,
   "metadata": {},
   "outputs": [],
   "source": [
    "ecp_img_train = \"/home/minoda/datasets/ECP/ECP/day/img/train\"\n",
    "ecp_labels_train = \"/home/minoda/datasets/ECP/ECP/day/labels/train\"\n",
    "ecp_img_val = \"/home/minoda/datasets/ECP/ECP/day/img/val\"\n",
    "ecp_labels_val = \"/home/minoda/datasets/ECP/ECP/day/labels/val\"\n",
    "ecp_img_test = \"/home/minoda/datasets/ECP/ECP/day/img/test\""
   ]
  },
  {
   "cell_type": "code",
   "execution_count": 4,
   "metadata": {},
   "outputs": [],
   "source": [
    "img_train_list = []\n",
    "labels_train_list = []\n",
    "img_val_list = []\n",
    "labels_val_list = []\n",
    "img_test_list = []\n",
    "\n",
    "for location in os.listdir(ecp_img_train):\n",
    "    folder = os.path.join(ecp_img_train, location)\n",
    "    for file in os.listdir(folder):\n",
    "        img_train_list.append(os.path.join(ecp_img_train, location, file))\n",
    "for location in os.listdir(ecp_labels_train):\n",
    "    folder = os.path.join(ecp_labels_train, location)\n",
    "    for file in os.listdir(folder):\n",
    "        labels_train_list.append(os.path.join(ecp_labels_train, location, file))\n",
    "\n",
    "for location in os.listdir(ecp_img_val):\n",
    "    folder = os.path.join(ecp_img_val, location)\n",
    "    for file in os.listdir(folder):\n",
    "        img_val_list.append(os.path.join(ecp_img_val, location, file))\n",
    "for location in os.listdir(ecp_labels_val):\n",
    "    folder = os.path.join(ecp_labels_val, location)\n",
    "    for file in os.listdir(folder):\n",
    "        labels_val_list.append(os.path.join(ecp_labels_val, location, file))\n",
    "\n",
    "for location in os.listdir(ecp_img_test):\n",
    "    folder = os.path.join(ecp_img_test, location)\n",
    "    for file in os.listdir(folder):\n",
    "        img_test_list.append(os.path.join(ecp_img_test, location, file))\n"
   ]
  },
  {
   "cell_type": "code",
   "execution_count": 31,
   "metadata": {},
   "outputs": [
    {
     "data": {
      "text/plain": [
       "(23892, 23892, 4266, 4266, 12059)"
      ]
     },
     "execution_count": 31,
     "metadata": {},
     "output_type": "execute_result"
    }
   ],
   "source": [
    "len(img_train_list), len(labels_train_list), \\\n",
    "len(img_val_list), len(labels_val_list), len(img_test_list)"
   ]
  },
  {
   "cell_type": "code",
   "execution_count": 5,
   "metadata": {},
   "outputs": [],
   "source": [
    "img_train_list = natsorted(img_train_list)\n",
    "labels_train_list = natsorted(labels_train_list)\n",
    "img_val_list = natsorted(img_val_list)\n",
    "labels_val_list = natsorted(labels_val_list)\n",
    "img_test_list = natsorted(img_test_list)"
   ]
  },
  {
   "cell_type": "code",
   "execution_count": 7,
   "metadata": {},
   "outputs": [],
   "source": [
    "path_w = './train.txt'\n",
    "with open(path_w, mode='w') as f:\n",
    "    for file in img_train_list:\n",
    "        f.write(file)\n",
    "        f.write(\"\\n\")\n",
    "\n",
    "path_w = './train_labels.txt'\n",
    "with open(path_w, mode='w') as f:\n",
    "    for file in labels_train_list:\n",
    "        f.write(file)\n",
    "        f.write(\"\\n\")\n",
    "        \n",
    "path_w = './valid.txt'\n",
    "with open(path_w, mode='w') as f:\n",
    "    for file in img_val_list:\n",
    "        f.write(file)\n",
    "        f.write(\"\\n\")\n",
    "\n",
    "path_w = './valid_labels.txt'\n",
    "with open(path_w, mode='w') as f:\n",
    "    for file in labels_val_list:\n",
    "        f.write(file)\n",
    "        f.write(\"\\n\")\n",
    "        \n",
    "path_w = './test.txt'\n",
    "with open(path_w, mode='w') as f:\n",
    "    for file in img_test_list:\n",
    "        f.write(file)\n",
    "        f.write(\"\\n\")"
   ]
  },
  {
   "cell_type": "code",
   "execution_count": 10,
   "metadata": {},
   "outputs": [],
   "source": [
    "import torch\n",
    "import numpy as np"
   ]
  },
  {
   "cell_type": "code",
   "execution_count": 12,
   "metadata": {},
   "outputs": [
    {
     "data": {
      "text/plain": [
       "tensor([0.0000, 0.1111, 0.2212, 0.1231], dtype=torch.float64)"
      ]
     },
     "execution_count": 12,
     "metadata": {},
     "output_type": "execute_result"
    }
   ],
   "source": [
    "boxes = np.array([0., 0.1111111, 0.22123123, 0.1231223])\n",
    "torch.from_numpy(boxes)"
   ]
  },
  {
   "cell_type": "code",
   "execution_count": null,
   "metadata": {},
   "outputs": [],
   "source": []
  }
 ],
 "metadata": {
  "kernelspec": {
   "display_name": "Python 3",
   "language": "python",
   "name": "python3"
  },
  "language_info": {
   "codemirror_mode": {
    "name": "ipython",
    "version": 3
   },
   "file_extension": ".py",
   "mimetype": "text/x-python",
   "name": "python",
   "nbconvert_exporter": "python",
   "pygments_lexer": "ipython3",
   "version": "3.6.9"
  }
 },
 "nbformat": 4,
 "nbformat_minor": 4
}
